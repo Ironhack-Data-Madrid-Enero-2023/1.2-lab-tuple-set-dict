{
 "cells": [
  {
   "cell_type": "code",
   "execution_count": null,
   "id": "847d8fde",
   "metadata": {},
   "outputs": [],
   "source": [
    "In the cell below, define a variable tup with a single element \"I\"."
   ]
  },
  {
   "cell_type": "code",
   "execution_count": 3,
   "id": "154604e8",
   "metadata": {},
   "outputs": [],
   "source": [
    "t = (\"I\",)"
   ]
  },
  {
   "cell_type": "code",
   "execution_count": null,
   "id": "06ce8b8b",
   "metadata": {},
   "outputs": [],
   "source": [
    "Print the type of tup."
   ]
  },
  {
   "cell_type": "code",
   "execution_count": 4,
   "id": "aad4803e",
   "metadata": {},
   "outputs": [
    {
     "data": {
      "text/plain": [
       "tuple"
      ]
     },
     "execution_count": 4,
     "metadata": {},
     "output_type": "execute_result"
    }
   ],
   "source": [
    "type(t)"
   ]
  },
  {
   "cell_type": "code",
   "execution_count": null,
   "id": "20ed2bc6",
   "metadata": {},
   "outputs": [],
   "source": [
    "Now try to append the following elements to tup.\n",
    "Are you able to do it? Explain.\n",
    "\n",
    "\"r\", \"o\", \"n\", \"h\", \"a\", \"c\", \"k',"
   ]
  },
  {
   "cell_type": "code",
   "execution_count": null,
   "id": "3526f6a7",
   "metadata": {},
   "outputs": [],
   "source": []
  },
  {
   "cell_type": "code",
   "execution_count": null,
   "id": "1c5aed22",
   "metadata": {},
   "outputs": [],
   "source": [
    "How about re-assign a new value to an existing tuple?\n",
    "Re-assign the following elements to tup. Are you able to do it? Explain.\n",
    "\n",
    "\"I\", \"r\", \"o\", \"n\", \"h\", \"a\", \"c\", \"k\""
   ]
  },
  {
   "cell_type": "code",
   "execution_count": null,
   "id": "1e8be48f",
   "metadata": {},
   "outputs": [],
   "source": []
  },
  {
   "cell_type": "code",
   "execution_count": null,
   "id": "5300da7c",
   "metadata": {},
   "outputs": [],
   "source": [
    "Split tup into tup1 and tup2 with 4 elements in each.\n",
    "tup1 should be (\"I\", \"r\", \"o\", \"n\") and tup2 should be (\"h\", \"a\", \"c\", \"k\").\n",
    "Also print tup1 and tup2."
   ]
  },
  {
   "cell_type": "code",
   "execution_count": null,
   "id": "1a9073ad",
   "metadata": {},
   "outputs": [],
   "source": []
  },
  {
   "cell_type": "code",
   "execution_count": null,
   "id": "b0c975e9",
   "metadata": {},
   "outputs": [],
   "source": [
    "Add tup1 and tup2 into tup3 using the + operator.\n",
    "Then print tup3 and check if tup3 equals to tup."
   ]
  },
  {
   "cell_type": "code",
   "execution_count": null,
   "id": "53031297",
   "metadata": {},
   "outputs": [],
   "source": []
  },
  {
   "cell_type": "code",
   "execution_count": null,
   "id": "16a778b2",
   "metadata": {},
   "outputs": [],
   "source": [
    "Count the number of elements in tup1 and tup2. Then add the two counts together and check if the sum is the same as the number of elements in tup3."
   ]
  },
  {
   "cell_type": "code",
   "execution_count": null,
   "id": "50c74706",
   "metadata": {},
   "outputs": [],
   "source": []
  },
  {
   "cell_type": "code",
   "execution_count": null,
   "id": "f516b61e",
   "metadata": {},
   "outputs": [],
   "source": [
    "Count the number of elements in tup1 and tup2. Then add the two counts together and check if the sum is the same as the number of elements in tup3."
   ]
  },
  {
   "cell_type": "code",
   "execution_count": null,
   "id": "19fde64e",
   "metadata": {},
   "outputs": [],
   "source": []
  },
  {
   "cell_type": "code",
   "execution_count": null,
   "id": "cace26c7",
   "metadata": {},
   "outputs": [],
   "source": [
    "Now, use a FOR loop to check whether each letter in the following list is present in tup3:\n",
    "letters = [\"a\", \"b\", \"c\", \"d\", \"e\"]\n",
    "For each letter you check, print True if it is present in tup3 otherwise print False"
   ]
  },
  {
   "cell_type": "code",
   "execution_count": null,
   "id": "652ee6ba",
   "metadata": {},
   "outputs": [],
   "source": []
  },
  {
   "cell_type": "code",
   "execution_count": null,
   "id": "4bd76765",
   "metadata": {},
   "outputs": [],
   "source": [
    "How many times does each letter in letters appear in tup3?\n",
    "Print out the number of occurrence of each letter."
   ]
  },
  {
   "cell_type": "code",
   "execution_count": null,
   "id": "dea30720",
   "metadata": {},
   "outputs": [],
   "source": []
  },
  {
   "cell_type": "code",
   "execution_count": 5,
   "id": "00120181",
   "metadata": {},
   "outputs": [
    {
     "ename": "NameError",
     "evalue": "name 'update' is not defined",
     "output_type": "error",
     "traceback": [
      "\u001b[1;31m---------------------------------------------------------------------------\u001b[0m",
      "\u001b[1;31mNameError\u001b[0m                                 Traceback (most recent call last)",
      "\u001b[1;32m~\\AppData\\Local\\Temp/ipykernel_22832/609384974.py\u001b[0m in \u001b[0;36m<module>\u001b[1;34m\u001b[0m\n\u001b[1;32m----> 1\u001b[1;33m \u001b[0mhelp\u001b[0m\u001b[1;33m(\u001b[0m\u001b[0mupdate\u001b[0m\u001b[1;33m)\u001b[0m\u001b[1;33m\u001b[0m\u001b[1;33m\u001b[0m\u001b[0m\n\u001b[0m",
      "\u001b[1;31mNameError\u001b[0m: name 'update' is not defined"
     ]
    }
   ],
   "source": [
    "help(update)"
   ]
  },
  {
   "cell_type": "code",
   "execution_count": null,
   "id": "4a19225e",
   "metadata": {},
   "outputs": [],
   "source": []
  }
 ],
 "metadata": {
  "kernelspec": {
   "display_name": "Python 3 (ipykernel)",
   "language": "python",
   "name": "python3"
  },
  "language_info": {
   "codemirror_mode": {
    "name": "ipython",
    "version": 3
   },
   "file_extension": ".py",
   "mimetype": "text/x-python",
   "name": "python",
   "nbconvert_exporter": "python",
   "pygments_lexer": "ipython3",
   "version": "3.9.7"
  }
 },
 "nbformat": 4,
 "nbformat_minor": 5
}
